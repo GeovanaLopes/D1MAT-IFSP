{
  "nbformat": 4,
  "nbformat_minor": 0,
  "metadata": {
    "colab": {
      "provenance": [],
      "include_colab_link": true
    },
    "kernelspec": {
      "name": "python3",
      "display_name": "Python 3"
    },
    "language_info": {
      "name": "python"
    }
  },
  "cells": [
    {
      "cell_type": "markdown",
      "metadata": {
        "id": "view-in-github",
        "colab_type": "text"
      },
      "source": [
        "<a href=\"https://colab.research.google.com/github/GeovanaLopes/D1MAT-IFSP/blob/main/Calculo_Limites.ipynb\" target=\"_parent\"><img src=\"https://colab.research.google.com/assets/colab-badge.svg\" alt=\"Open In Colab\"/></a>"
      ]
    },
    {
      "cell_type": "code",
      "execution_count": null,
      "metadata": {
        "id": "L0HyUJsz0pcx"
      },
      "outputs": [],
      "source": [
        "import matplotlib.pyplot as plt\n",
        "import numpy as np\n",
        "import sympy as sp\n",
        "from sympy.parsing.sympy_parser import parse_expr"
      ]
    },
    {
      "cell_type": "markdown",
      "source": [
        "$\\lim_{x \\to \\infty} (\\frac{1}{x}) = 0 $"
      ],
      "metadata": {
        "id": "HlrpmHAA4Zmk"
      }
    },
    {
      "cell_type": "code",
      "source": [
        "from sympy import init_session\n",
        "init_session()"
      ],
      "metadata": {
        "id": "B66PYph3iwoB",
        "outputId": "4cf5277b-7655-4a99-aa60-3101f62f3b73",
        "colab": {
          "base_uri": "https://localhost:8080/"
        }
      },
      "execution_count": null,
      "outputs": [
        {
          "output_type": "stream",
          "name": "stdout",
          "text": [
            "IPython console for SymPy 1.7.1 (Python 3.8.10-64-bit) (ground types: python)\n",
            "\n",
            "These commands were executed:\n",
            ">>> from __future__ import division\n",
            ">>> from sympy import *\n",
            ">>> x, y, z, t = symbols('x y z t')\n",
            ">>> k, m, n = symbols('k m n', integer=True)\n",
            ">>> f, g, h = symbols('f g h', cls=Function)\n",
            ">>> init_printing()\n",
            "\n",
            "Documentation can be found at https://docs.sympy.org/1.7.1/\n",
            "\n"
          ]
        }
      ]
    },
    {
      "cell_type": "code",
      "source": [
        "x = symbols('x')\n",
        "f = 1/x\n",
        "resultado = limit (f, x, oo)\n",
        "print (resultado)"
      ],
      "metadata": {
        "id": "x0y04Scr0w3K",
        "outputId": "d94e3e86-6596-4074-989b-4bdbe953891c",
        "colab": {
          "base_uri": "https://localhost:8080/"
        }
      },
      "execution_count": null,
      "outputs": [
        {
          "output_type": "stream",
          "name": "stdout",
          "text": [
            "0\n"
          ]
        }
      ]
    },
    {
      "cell_type": "markdown",
      "source": [
        "$\\lim_{n \\to \\infty} (1+\\frac{1}{n}) = \\mathcal{e}  $\n"
      ],
      "metadata": {
        "id": "0p9g33hc1Qmz"
      }
    },
    {
      "cell_type": "code",
      "source": [
        "n = symbols('n')\n",
        "f = (1 + (1/n)) ** n\n",
        "resultado = limit(f, n, oo)\n",
        "print(resultado )\n",
        "print(resultado.evalf())"
      ],
      "metadata": {
        "id": "RWJAHoPL1Fxp",
        "outputId": "d5f4d7ef-6a1a-4a62-e13e-b6a958da5e20",
        "colab": {
          "base_uri": "https://localhost:8080/"
        }
      },
      "execution_count": null,
      "outputs": [
        {
          "output_type": "stream",
          "name": "stdout",
          "text": [
            "E\n",
            "2.71828182845905\n"
          ]
        }
      ]
    },
    {
      "cell_type": "markdown",
      "source": [
        "Fazer o gráfico das funções auxilia na percepção dos limites:"
      ],
      "metadata": {
        "id": "ytHw3QuaBqvx"
      }
    },
    {
      "cell_type": "code",
      "source": [
        "%matplotlib inline"
      ],
      "metadata": {
        "id": "5Q6UPk-E58d1"
      },
      "execution_count": null,
      "outputs": []
    },
    {
      "cell_type": "code",
      "source": [
        "# aqui vai o intervalo de variação de x\n",
        "\n",
        "x = np.linspace(-100,50,100)\n",
        "#x = np.linspace (0,10,50)\n",
        "\n",
        "# aqui vai a função\n",
        "\n",
        "#y = (1 + 1/x)**x\n",
        "y = 1/x\n",
        "\n",
        "\n",
        "# eixos\n",
        "fig = plt.figure(figsize=(10,10))\n",
        "ax = fig.add_subplot(1, 1, 1)    # o subplot representa os eixos - 1 subplot, central neste caso\n",
        "ax.spines['left'].set_position('zero')  # linha da esquerda será deslocada para o CENTRO da figura\n",
        "ax.spines['bottom'].set_position('zero')  # linha inferior será deslocada para o CENTRO da figura (é o mesmo que o ZERO do gráfico)\n",
        "ax.spines['right'].set_color('none') # não mostra a linha na direita\n",
        "ax.spines['top'].set_color('none')   # não mostra a linha superior\n",
        "ax.xaxis.set_ticks_position('bottom')\n",
        "ax.yaxis.set_ticks_position('left')\n",
        "\n",
        "# cria o gráfico da função\n",
        "\n",
        "plt.plot(x, y, 'b')\n",
        "#plt.plot(x, z, 'r')\n",
        "plt.plot\n",
        "\n",
        "# plota o gráfico\n",
        "plt.show()\n"
      ],
      "metadata": {
        "id": "5l6B1XK_5CG9",
        "colab": {
          "base_uri": "https://localhost:8080/",
          "height": 610
        },
        "outputId": "a895633e-2022-421d-c291-c75dd32c15fb"
      },
      "execution_count": null,
      "outputs": [
        {
          "output_type": "stream",
          "name": "stderr",
          "text": [
            "<ipython-input-16-b1d9f5b4c6e3>:9: RuntimeWarning: divide by zero encountered in true_divide\n",
            "  y = 1/x\n"
          ]
        },
        {
          "output_type": "display_data",
          "data": {
            "text/plain": [
              "<Figure size 720x720 with 1 Axes>"
            ],
            "image/png": "[encoded data removed]"
          },
          "metadata": {
            "needs_background": "light"
          }
        }
      ]
    },
    {
      "cell_type": "code",
      "source": [
        "x = sp.symbols('x')\n",
        "s = \"sin(2*pi*x)\"\n",
        "a = parse_expr(s)\n",
        "a"
      ],
      "metadata": {
        "colab": {
          "base_uri": "https://localhost:8080/",
          "height": 39
        },
        "id": "NQgqMiEc0-re",
        "outputId": "531baf02-d170-4155-fbeb-9bcd71b98451"
      },
      "execution_count": null,
      "outputs": [
        {
          "output_type": "execute_result",
          "data": {
            "text/plain": [
              "sin(2⋅π⋅x)"
            ],
            "image/png": "[encoded data removed]",
            "text/latex": "$\\displaystyle \\sin{\\left(2 \\pi x \\right)}$"
          },
          "metadata": {},
          "execution_count": 24
        }
      ]
    },
    {
      "cell_type": "code",
      "source": [
        "f = sp.lambdify( x,s, \"numpy\")\n",
        "f(2.0)"
      ],
      "metadata": {
        "id": "LO4SnpxW20R4",
        "outputId": "f7f083d6-e5a1-4c02-d144-701ef38dfe17",
        "colab": {
          "base_uri": "https://localhost:8080/",
          "height": 37
        }
      },
      "execution_count": null,
      "outputs": [
        {
          "output_type": "execute_result",
          "data": {
            "text/plain": [
              "-4.898587196589413e-16"
            ],
            "image/png": "[encoded data removed]",
            "text/latex": "$\\displaystyle -4.89858719658941 \\cdot 10^{-16}$"
          },
          "metadata": {},
          "execution_count": 26
        }
      ]
    },
    {
      "cell_type": "code",
      "source": [
        "print(sp.__version__)"
      ],
      "metadata": {
        "colab": {
          "base_uri": "https://localhost:8080/"
        },
        "id": "HEeNUYw69n9D",
        "outputId": "c0460e04-fae0-4c4b-fdbc-cf989f7d0f87"
      },
      "execution_count": null,
      "outputs": [
        {
          "output_type": "stream",
          "name": "stdout",
          "text": [
            "1.7.1\n"
          ]
        }
      ]
    }
  ]
}